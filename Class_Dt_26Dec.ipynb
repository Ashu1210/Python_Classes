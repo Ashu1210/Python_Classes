{
 "cells": [
  {
   "cell_type": "code",
   "execution_count": null,
   "metadata": {},
   "outputs": [],
   "source": [
    "total_sum=0\n",
    "a=int(input())\n",
    "while a!=0:\n",
    "    total_sum+=a\n",
    "    if total_sum>=21:\n",
    "        print('Total sum is',total_sum)\n",
    "        break\n",
    "    a= int(input())\n",
    "else:\n",
    "    print('Total sum is less than 21 and is equal to', total_sum,'.')"
   ]
  },
  {
   "cell_type": "code",
   "execution_count": null,
   "metadata": {},
   "outputs": [],
   "source": [
    "friends=['Joseph','Glenn','Sally']\n",
    "for friend in friends:\n",
    "    print('Happy New Year:',friend)\n",
    "    print('Done!')"
   ]
  },
  {
   "cell_type": "code",
   "execution_count": null,
   "metadata": {},
   "outputs": [],
   "source": [
    "    count=0\n",
    "    for itervar in [3,41,12,9,74,15]:\n",
    "        count = count+1\n",
    "        print('Count:',count)"
   ]
  },
  {
   "cell_type": "code",
   "execution_count": null,
   "metadata": {},
   "outputs": [],
   "source": [
    "total = 0\n",
    "for itervar in [3,41,12,9,74,15]:\n",
    "    total = total + itervar\n",
    "    print('Total:',total)"
   ]
  },
  {
   "cell_type": "code",
   "execution_count": null,
   "metadata": {},
   "outputs": [],
   "source": [
    "numbers =[6,5,3,8,4,2,5,4,11]\n",
    "sum=0\n",
    "for val in numbers:\n",
    "    sum=sum+val\n",
    "    print(\"The sum is\",sum)"
   ]
  },
  {
   "cell_type": "markdown",
   "metadata": {},
   "source": [
    "Program to iterate through a list using indexing:-"
   ]
  },
  {
   "cell_type": "code",
   "execution_count": null,
   "metadata": {},
   "outputs": [],
   "source": [
    "genre =['pop','rock','jazz']\n",
    "for i in range (len(genre)):\n",
    "    print(\"I like\",genre[i])"
   ]
  },
  {
   "cell_type": "code",
   "execution_count": null,
   "metadata": {},
   "outputs": [],
   "source": [
    "#Program to display all the prime numbers within an interval:\n",
    "# change the values of lower and uppper for a different result:\n",
    "lower = 900\n",
    "upper =1000\n",
    "#To take input from user\n",
    "lower = int(input(\"Enter lower range:\"))\n",
    "upper = int(input(\"Enter upper range:\"))\n",
    "print(\"Prime numbers between\",lower,\"and\",upper,\"are:\")\n",
    "for num in range(lower,upper+1):\n",
    "#prime numbers are greater than 1\n",
    "    if num>1:\n",
    "        for i in range(2,num):\n",
    "            if (num%i)==0:\n",
    "                break\n",
    "            else:\n",
    "                print(num)"
   ]
  },
  {
   "cell_type": "code",
   "execution_count": null,
   "metadata": {},
   "outputs": [],
   "source": [
    "#Program to display all the prime numbers within an interval:\n",
    "# change the values of lower and uppper for a different result:\n",
    "lower = 900\n",
    "upper =1000\n",
    "#To take input from user\n",
    "lower = int(input(\"Enter lower range:\"))\n",
    "upper = int(input(\"Enter upper range:\"))\n",
    "print(\"Prime numbers between\",lower,\"and\",upper,\"are:\")\n",
    "for num in range(lower,upper+1):\n",
    "#prime numbers are greater than 1\n",
    "    if num>1:\n",
    "        for i in range(2,num):\n",
    "            if (num%i)==0:\n",
    "                break\n",
    "        else:\n",
    "            print(num)\n",
    "else:\n",
    "    print(\"The range is specified wrongly\")"
   ]
  },
  {
   "cell_type": "code",
   "execution_count": 2,
   "metadata": {},
   "outputs": [
    {
     "name": "stdout",
     "output_type": "stream",
     "text": [
      "Enter a string:The name is , Bond and code is [] 007\n",
      "The name is  Bond and code is  007\n"
     ]
    }
   ],
   "source": [
    "#define punctuation \n",
    "punctuations =\"!()-[]{};:\"\"\\,<>./?@#$%^&*_~\"\n",
    "my_str=\"Hello!!!, he said----and went.\"\n",
    "#to take input from user\n",
    "my_str = input(\"Enter a string:\") \n",
    "#Remove punctuation from the string\n",
    "no_punct=\"\"\n",
    "for char in my_str:\n",
    "    if char not in punctuations:\n",
    "        no_punct=no_punct+char\n",
    "#display the unpunctuated string\n",
    "print(no_punct)"
   ]
  },
  {
   "cell_type": "code",
   "execution_count": 3,
   "metadata": {},
   "outputs": [
    {
     "name": "stdout",
     "output_type": "stream",
     "text": [
      "Enter a stringHello this is a example with cased letters\n",
      "The sorted words are:\n",
      "Hello\n",
      "a\n",
      "cased\n",
      "example\n",
      "is\n",
      "letters\n",
      "this\n",
      "with\n"
     ]
    }
   ],
   "source": [
    "#Program to sort alphabetically the words from a string provided by the user\n",
    "\n",
    "#change this value for a different result\n",
    "my_str = \"Hello this is a example with cased letters\"\n",
    "#uncommment to take input from the user\n",
    "my_str = input(\"Enter a string\")\n",
    "\n",
    "#breakdown the string into a list of words\n",
    "words = my_str.split()\n",
    "\n",
    "#sort the list\n",
    "words.sort()\n",
    "\n",
    "#display the sorted words\n",
    "print(\"The sorted words are:\")\n",
    "for word in words:\n",
    "    print(word)"
   ]
  },
  {
   "cell_type": "code",
   "execution_count": 6,
   "metadata": {},
   "outputs": [
    {
     "data": {
      "text/plain": [
       "120"
      ]
     },
     "execution_count": 6,
     "metadata": {},
     "output_type": "execute_result"
    }
   ],
   "source": [
    "#An example of a recursive function to find the factorial of a number:\n",
    "def calc_factorial(x):\n",
    "    #This is a recurvive function to find a factorial of number\n",
    "    if x==1:\n",
    "        return 1\n",
    "    else:\n",
    "        return(x*calc_factorial(x-1))\n",
    "    num=4\n",
    "    print(\"The factorial of\",num,\"is\",calc_factorial(num))\n",
    "calc_factorial(5)"
   ]
  },
  {
   "cell_type": "code",
   "execution_count": 9,
   "metadata": {},
   "outputs": [
    {
     "name": "stdout",
     "output_type": "stream",
     "text": [
      "[4, 6, 8, 12]\n"
     ]
    }
   ],
   "source": [
    "#Program to filter out only the even items from a list (Anonymous Functions or Lambda Functions)\n",
    "my_list=[1,5,4,6,8,11,3,12]\n",
    "new_list=list(filter(lambda x:(x%2==0), my_list))\n",
    "print(new_list)"
   ]
  },
  {
   "cell_type": "code",
   "execution_count": null,
   "metadata": {},
   "outputs": [],
   "source": []
  }
 ],
 "metadata": {
  "kernelspec": {
   "display_name": "Python 3",
   "language": "python",
   "name": "python3"
  },
  "language_info": {
   "codemirror_mode": {
    "name": "ipython",
    "version": 3
   },
   "file_extension": ".py",
   "mimetype": "text/x-python",
   "name": "python",
   "nbconvert_exporter": "python",
   "pygments_lexer": "ipython3",
   "version": "3.7.0"
  }
 },
 "nbformat": 4,
 "nbformat_minor": 2
}
