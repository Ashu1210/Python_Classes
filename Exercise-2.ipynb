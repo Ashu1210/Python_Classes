{
 "cells": [
  {
   "cell_type": "code",
   "execution_count": 1,
   "metadata": {},
   "outputs": [],
   "source": [
    "def fred():\n",
    "    print(\"Zap\")\n",
    "def jane():\n",
    "    print(\"ABC\")"
   ]
  },
  {
   "cell_type": "code",
   "execution_count": 2,
   "metadata": {},
   "outputs": [
    {
     "name": "stdout",
     "output_type": "stream",
     "text": [
      "<function jane at 0x000000DAA5899B70>\n",
      "<function fred at 0x000000DAA58998C8>\n"
     ]
    }
   ],
   "source": [
    "print(jane)\n",
    "print(fred)"
   ]
  },
  {
   "cell_type": "code",
   "execution_count": 3,
   "metadata": {},
   "outputs": [
    {
     "name": "stdout",
     "output_type": "stream",
     "text": [
      "ABC\n"
     ]
    }
   ],
   "source": [
    "jane()"
   ]
  },
  {
   "cell_type": "code",
   "execution_count": 4,
   "metadata": {},
   "outputs": [
    {
     "name": "stdout",
     "output_type": "stream",
     "text": [
      "Normal Working Hrs\n",
      "45\n",
      "How many hours has an employee worked?\n",
      "10\n",
      "Enter the Rate\n",
      "10\n",
      "100.0\n"
     ]
    }
   ],
   "source": [
    "x = float (input('Normal Working Hrs\\n'))\n",
    "Hours = float(input('How many hours has an employee worked?\\n'))\n",
    "Wage =float( input ('Enter the Rate\\n'))\n",
    "if Hours <= 40:\n",
    "    print(Hours * Wage)\n",
    "else:\n",
    "    print(x*Wage + (Hours-x)*1.5*Wage)\n",
    "    \n"
   ]
  },
  {
   "cell_type": "code",
   "execution_count": 6,
   "metadata": {},
   "outputs": [
    {
     "ename": "SyntaxError",
     "evalue": "invalid syntax (<ipython-input-6-2c96569708f3>, line 5)",
     "output_type": "error",
     "traceback": [
      "\u001b[1;36m  File \u001b[1;32m\"<ipython-input-6-2c96569708f3>\"\u001b[1;36m, line \u001b[1;32m5\u001b[0m\n\u001b[1;33m    Actual Hours = float(inp)\u001b[0m\n\u001b[1;37m               ^\u001b[0m\n\u001b[1;31mSyntaxError\u001b[0m\u001b[1;31m:\u001b[0m invalid syntax\n"
     ]
    }
   ],
   "source": [
    "inp = input('How many hours has an employee worked?\\n')\n",
    "inp1 = input('Enter Hours\\n')\n",
    "inp2 = input ('Enter the Rate\\n')\n",
    "try:\n",
    "    Actual Hours = float(inp)\n",
    "    Hours = float(inp1)\n",
    "    Wage =float(inp2)\n",
    "    pay = float(Actual Hours *Wage +(Actual Hours-Hours)*1.5*wage )\n",
    "    print(pay)\n",
    "except:\n",
    "    print(\"Please enter a number\")\n",
    "    "
   ]
  },
  {
   "cell_type": "code",
   "execution_count": 16,
   "metadata": {},
   "outputs": [
    {
     "name": "stdout",
     "output_type": "stream",
     "text": [
      "How many hours has an employee worked?\n",
      "40\n",
      "Enter Hours\n",
      "45\n",
      "Enter the Rate\n",
      "10\n",
      "475.0\n"
     ]
    }
   ],
   "source": [
    "inp = input('How many hours has an employee worked?\\n')\n",
    "inp1 = input('Enter Hours\\n')\n",
    "inp2 = input ('Enter the Rate\\n')\n",
    "try:\n",
    "    Actual_Hours = float(inp)\n",
    "    Hours = float(inp1)\n",
    "    Wage =float(inp2)\n",
    "    pay = float((Actual_Hours*Wage)+(Hours-Actual_Hours)*1.5*Wage)\n",
    "    print(pay)\n",
    "except:\n",
    "    print(\"Please enter a number\")"
   ]
  },
  {
   "cell_type": "code",
   "execution_count": 1,
   "metadata": {},
   "outputs": [
    {
     "name": "stdout",
     "output_type": "stream",
     "text": [
      "Enter the score\n",
      "R\n",
      "Error the number is not valid\n"
     ]
    }
   ],
   "source": [
    "inp = input('Enter the score\\n')\n",
    "try:\n",
    "    Score = float(inp)\n",
    "    if Score <=0:\n",
    "        print(\"Out of Range\")\n",
    "    elif Score >=1:\n",
    "          print(\"Out of Range\")  \n",
    "    elif Score >=0.9:\n",
    "        print(\"A\")\n",
    "    elif Score >=0.8:\n",
    "        print(\"B\")\n",
    "    elif Score >=0.7:\n",
    "        print(\"C\")\n",
    "    elif Score >=0.6:\n",
    "        print(\"D\")\n",
    "    else:\n",
    "        print(\"F\")\n",
    "        \n",
    "except:\n",
    "    print(\"Error the number is not valid\")"
   ]
  },
  {
   "cell_type": "code",
   "execution_count": null,
   "metadata": {},
   "outputs": [],
   "source": []
  },
  {
   "cell_type": "code",
   "execution_count": null,
   "metadata": {},
   "outputs": [],
   "source": []
  }
 ],
 "metadata": {
  "kernelspec": {
   "display_name": "Python 3",
   "language": "python",
   "name": "python3"
  },
  "language_info": {
   "codemirror_mode": {
    "name": "ipython",
    "version": 3
   },
   "file_extension": ".py",
   "mimetype": "text/x-python",
   "name": "python",
   "nbconvert_exporter": "python",
   "pygments_lexer": "ipython3",
   "version": "3.7.0"
  }
 },
 "nbformat": 4,
 "nbformat_minor": 2
}
